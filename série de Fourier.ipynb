{
 "cells": [
  {
   "cell_type": "markdown",
   "metadata": {},
   "source": [
    "# Représenter un signal périodique"
   ]
  },
  {
   "cell_type": "markdown",
   "metadata": {},
   "source": [
    "Importation des bibliothèques nécessaires"
   ]
  },
  {
   "cell_type": "code",
   "execution_count": null,
   "metadata": {},
   "outputs": [],
   "source": [
    "import sys\n",
    "!{sys.executable} -m pip install matplotlib\n",
    "from matplotlib import pyplot\n",
    "%matplotlib inline\n",
    "from math import *"
   ]
  },
  {
   "cell_type": "markdown",
   "metadata": {},
   "source": [
    "### Caractéristiques d'un signal périodique"
   ]
  },
  {
   "cell_type": "code",
   "execution_count": null,
   "metadata": {},
   "outputs": [],
   "source": [
    "tmax=0.01 #durée du signal (sur l'axe des abscisses). Modifiable\n",
    "f0=440 #fréquence du signal en Hz. Modifiable\n",
    "T=1/f0 #période correspondante\n",
    "φ=pi/2 #phase à l'origine (rad). Modifiable\n",
    "A=5 #amplitude. Modifiable"
   ]
  },
  {
   "cell_type": "markdown",
   "metadata": {},
   "source": [
    "### Paramètres pour la représentation graphique et affichage"
   ]
  },
  {
   "cell_type": "code",
   "execution_count": null,
   "metadata": {},
   "outputs": [],
   "source": [
    "repere = pyplot.axes(xlim=(0, tmax), ylim=(-A,A))\n",
    "repere.set_xlabel('t')\n",
    "repere.set_ylabel('Amplitude')\n",
    "repere.set_title(\"Représentation graphique d'un signal sinusoïdal\")\n",
    "n=500 #nombre d'intervalles (n+1 points). Modifiable (augmenter si la courbe n'est pas assez 'lisse')\n",
    "\n",
    "t=[k*tmax/n for k in range(n+1)] #liste des n+1 valeurs de t [0,n] (axe des abscisses)\n",
    "s=[A*cos(2*pi*f0*t+φ) for t in t] #calcul des n+1 valeurs de s (ordonnées). Une tension, mais cela pourrait être une intensité, une élongation...\n",
    "repere.plot(t,s)"
   ]
  },
  {
   "cell_type": "markdown",
   "metadata": {},
   "source": [
    "# Représenter une somme de sons purs... Vers l'analyse de Fourier"
   ]
  },
  {
   "cell_type": "markdown",
   "metadata": {},
   "source": [
    "### Caractéristiques de 4 signaux périodiques "
   ]
  },
  {
   "cell_type": "code",
   "execution_count": null,
   "metadata": {},
   "outputs": [],
   "source": [
    "tmax=0.01 #durée du signal (sur l'axe des abscisses). Modifiable"
   ]
  },
  {
   "cell_type": "markdown",
   "metadata": {},
   "source": [
    "Signal 0"
   ]
  },
  {
   "cell_type": "code",
   "execution_count": null,
   "metadata": {},
   "outputs": [],
   "source": [
    "f0=440 #fréquence du signal en Hz. Modifiable\n",
    "T=1/f0 #période correspondante\n",
    "φ0=pi/7 #phase à l'origine (rad). Modifiable\n",
    "A0=4 #amplitude. Modifiable"
   ]
  },
  {
   "cell_type": "markdown",
   "metadata": {},
   "source": [
    "Signal 1"
   ]
  },
  {
   "cell_type": "code",
   "execution_count": null,
   "metadata": {},
   "outputs": [],
   "source": [
    "f1=502 #fréquence du signal en Hz. Modifiable\n",
    "φ1=pi #phase à l'origine (rad). Modifiable\n",
    "A1=5 #amplitude. Modifiable"
   ]
  },
  {
   "cell_type": "markdown",
   "metadata": {},
   "source": [
    "Signal 2"
   ]
  },
  {
   "cell_type": "code",
   "execution_count": null,
   "metadata": {},
   "outputs": [],
   "source": [
    "f2=569 #fréquence du signal en Hz. Modifiable\n",
    "φ2=pi/10 #phase à l'origine (rad). Modifiable\n",
    "A2=7 #amplitude. Modifiable"
   ]
  },
  {
   "cell_type": "markdown",
   "metadata": {},
   "source": [
    "Signal 3"
   ]
  },
  {
   "cell_type": "code",
   "execution_count": null,
   "metadata": {},
   "outputs": [],
   "source": [
    "f3=628 #fréquence du signal en Hz. Modifiable\n",
    "φ3=0 #phase à l'origine (rad). Modifiable\n",
    "A3=1 #amplitude. Modifiable"
   ]
  },
  {
   "cell_type": "markdown",
   "metadata": {},
   "source": [
    "### Affichage des 4 sinusoïdes"
   ]
  },
  {
   "cell_type": "code",
   "execution_count": null,
   "metadata": {},
   "outputs": [],
   "source": [
    "repere = pyplot.axes(xlim=(0, tmax), ylim=(-10,10))\n",
    "repere.set_xlabel('t')\n",
    "repere.set_ylabel('Amplitude')\n",
    "repere.set_title(\"Représentation graphique d'un signal sinusoïdal\")\n",
    "n=500 #nombre d'intervalles (n+1 points). Modifiable (augmenter si la courbe n'est pas assez 'lisse')\n",
    "\n",
    "t=[k*tmax/n for k in range(n+1)] #liste des n+1 valeurs de t [0,n] (axe des abscisses)\n",
    "\n",
    "def s0(t):\n",
    "    return A0*cos(2*pi*f0*t+φ0)\n",
    "\n",
    "def s1(t):\n",
    "    return A1*cos(2*pi*f1*t+φ1)\n",
    "\n",
    "def s2(t):\n",
    "    return A2*cos(2*pi*f2*t+φ2)\n",
    "\n",
    "def s3(t):\n",
    "    return A3*cos(2*pi*f3*t+φ3)\n",
    "\n",
    "\n",
    "repere.plot(t,[s0(t) for t in t])\n",
    "repere.plot(t,[s1(t) for t in t])\n",
    "repere.plot(t,[s2(t) for t in t])\n",
    "repere.plot(t,[s3(t) for t in t])"
   ]
  },
  {
   "cell_type": "code",
   "execution_count": null,
   "metadata": {},
   "outputs": [],
   "source": [
    "tmax=0.1\n",
    "repere = pyplot.axes(xlim=(0, tmax), ylim=(-50,50))\n",
    "repere.set_xlabel('t')\n",
    "repere.set_ylabel('Amplitude')\n",
    "repere.set_title(\"Représentation graphique d'un signal sinusoïdal\")\n",
    "n=500 #nombre d'intervalles (n+1 points). Modifiable (augmenter si la courbe n'est pas assez 'lisse')\n",
    "\n",
    "t=[k*tmax/n for k in range(n+1)] #liste des n+1 valeurs de t [0,n] (axe des abscisses)\n",
    "def S(t):\n",
    "    return s0(t)+s1(t)+s2(t)+s3(t)\n",
    "\n",
    "repere.plot(t,[S(t) for t in t])"
   ]
  },
  {
   "cell_type": "code",
   "execution_count": null,
   "metadata": {},
   "outputs": [],
   "source": []
  }
 ],
 "metadata": {
  "kernelspec": {
   "display_name": "Python 3",
   "language": "python",
   "name": "python3"
  },
  "language_info": {
   "codemirror_mode": {
    "name": "ipython",
    "version": 3
   },
   "file_extension": ".py",
   "mimetype": "text/x-python",
   "name": "python",
   "nbconvert_exporter": "python",
   "pygments_lexer": "ipython3",
   "version": "3.7.6"
  }
 },
 "nbformat": 4,
 "nbformat_minor": 4
}
